{
  "cells": [
    {
      "cell_type": "markdown",
      "metadata": {
        "vscode": {
          "languageId": "raw"
        }
      },
      "source": [
        "# Vocabulous Demo: Bootstrapping Language Detection\n",
        "\n",
        "This notebook demonstrates how to use Vocabulous to build language detection models from noisy training data.\n",
        "\n",
        "## Overview\n",
        "\n",
        "Vocabulous is a bootstrapping language detection system that:\n",
        "- Builds dictionaries from potentially mislabeled training data\n",
        "- Iteratively cleans the data to improve model quality\n",
        "- Provides fast, interpretable language detection\n",
        "\n",
        "Let's explore its capabilities!\n"
      ]
    },
    {
      "cell_type": "code",
      "execution_count": 1,
      "metadata": {},
      "outputs": [],
      "source": [
        "# Install required packages if running in Colab\n",
        "# !pip install vocabulous matplotlib seaborn pandas\n"
      ]
    },
    {
      "cell_type": "code",
      "execution_count": 2,
      "metadata": {},
      "outputs": [
        {
          "ename": "ModuleNotFoundError",
          "evalue": "No module named 'matplotlib'",
          "output_type": "error",
          "traceback": [
            "\u001b[31m---------------------------------------------------------------------------\u001b[39m",
            "\u001b[31mModuleNotFoundError\u001b[39m                       Traceback (most recent call last)",
            "\u001b[36mCell\u001b[39m\u001b[36m \u001b[39m\u001b[32mIn[2]\u001b[39m\u001b[32m, line 2\u001b[39m\n\u001b[32m      1\u001b[39m \u001b[38;5;28;01mimport\u001b[39;00m\u001b[38;5;250m \u001b[39m\u001b[34;01mpandas\u001b[39;00m\u001b[38;5;250m \u001b[39m\u001b[38;5;28;01mas\u001b[39;00m\u001b[38;5;250m \u001b[39m\u001b[34;01mpd\u001b[39;00m\n\u001b[32m----> \u001b[39m\u001b[32m2\u001b[39m \u001b[38;5;28;01mimport\u001b[39;00m\u001b[38;5;250m \u001b[39m\u001b[34;01mmatplotlib\u001b[39;00m\u001b[34;01m.\u001b[39;00m\u001b[34;01mpyplot\u001b[39;00m\u001b[38;5;250m \u001b[39m\u001b[38;5;28;01mas\u001b[39;00m\u001b[38;5;250m \u001b[39m\u001b[34;01mplt\u001b[39;00m\n\u001b[32m      3\u001b[39m \u001b[38;5;28;01mimport\u001b[39;00m\u001b[38;5;250m \u001b[39m\u001b[34;01mseaborn\u001b[39;00m\u001b[38;5;250m \u001b[39m\u001b[38;5;28;01mas\u001b[39;00m\u001b[38;5;250m \u001b[39m\u001b[34;01msns\u001b[39;00m\n\u001b[32m      4\u001b[39m \u001b[38;5;28;01mimport\u001b[39;00m\u001b[38;5;250m \u001b[39m\u001b[34;01mnumpy\u001b[39;00m\u001b[38;5;250m \u001b[39m\u001b[38;5;28;01mas\u001b[39;00m\u001b[38;5;250m \u001b[39m\u001b[34;01mnp\u001b[39;00m\n",
            "\u001b[31mModuleNotFoundError\u001b[39m: No module named 'matplotlib'"
          ]
        }
      ],
      "source": [
        "import pandas as pd\n",
        "import matplotlib.pyplot as plt\n",
        "import seaborn as sns\n",
        "import numpy as np\n",
        "from vocabulous import Vocabulous\n",
        "import warnings\n",
        "warnings.filterwarnings('ignore')\n",
        "\n",
        "# Set style for better plots\n",
        "plt.style.use('default')\n",
        "sns.set_palette(\"husl\")\n"
      ]
    },
    {
      "cell_type": "markdown",
      "metadata": {
        "vscode": {
          "languageId": "raw"
        }
      },
      "source": [
        "## 1. Creating Sample Data\n",
        "\n",
        "Let's create a realistic multilingual dataset with some label noise to demonstrate Vocabulous's capabilities.\n"
      ]
    },
    {
      "cell_type": "code",
      "execution_count": null,
      "metadata": {},
      "outputs": [],
      "source": [
        "# Create sample training data for English, French, and Spanish\n",
        "clean_training_data = [\n",
        "    # English samples\n",
        "    {'text': 'Hello world how are you today', 'lang': 'en'},\n",
        "    {'text': 'Good morning everyone', 'lang': 'en'},\n",
        "    {'text': 'The weather is nice today', 'lang': 'en'},\n",
        "    {'text': 'I love programming in Python', 'lang': 'en'},\n",
        "    {'text': 'Machine learning is fascinating', 'lang': 'en'},\n",
        "    {'text': 'Natural language processing rocks', 'lang': 'en'},\n",
        "    {'text': 'Open source software is amazing', 'lang': 'en'},\n",
        "    {'text': 'Data science helps solve problems', 'lang': 'en'},\n",
        "    {'text': 'Artificial intelligence is the future', 'lang': 'en'},\n",
        "    {'text': 'Technology makes life easier', 'lang': 'en'},\n",
        "    \n",
        "    # French samples\n",
        "    {'text': 'Bonjour tout le monde', 'lang': 'fr'},\n",
        "    {'text': 'Comment allez vous aujourd hui', 'lang': 'fr'},\n",
        "    {'text': 'Le temps est magnifique', 'lang': 'fr'},\n",
        "    {'text': 'J aime programmer en Python', 'lang': 'fr'},\n",
        "    {'text': 'L apprentissage automatique est fascinant', 'lang': 'fr'},\n",
        "    {'text': 'Le traitement du langage naturel', 'lang': 'fr'},\n",
        "    {'text': 'Les logiciels libres sont formidables', 'lang': 'fr'},\n",
        "    {'text': 'La science des données résout les problèmes', 'lang': 'fr'},\n",
        "    {'text': 'L intelligence artificielle est l avenir', 'lang': 'fr'},\n",
        "    {'text': 'La technologie facilite la vie', 'lang': 'fr'},\n",
        "    \n",
        "    # Spanish samples\n",
        "    {'text': 'Hola mundo cómo están ustedes', 'lang': 'es'},\n",
        "    {'text': 'Buenos días a todos', 'lang': 'es'},\n",
        "    {'text': 'El clima está hermoso hoy', 'lang': 'es'},\n",
        "    {'text': 'Me encanta programar en Python', 'lang': 'es'},\n",
        "    {'text': 'El aprendizaje automático es fascinante', 'lang': 'es'},\n",
        "    {'text': 'El procesamiento de lenguaje natural', 'lang': 'es'},\n",
        "    {'text': 'El software libre es increíble', 'lang': 'es'},\n",
        "    {'text': 'La ciencia de datos resuelve problemas', 'lang': 'es'},\n",
        "    {'text': 'La inteligencia artificial es el futuro', 'lang': 'es'},\n",
        "    {'text': 'La tecnología hace la vida más fácil', 'lang': 'es'},\n",
        "]\n",
        "\n",
        "print(f\"Created {len(clean_training_data)} clean training samples\")\n",
        "pd.DataFrame(clean_training_data).groupby('lang').size()\n"
      ]
    },
    {
      "cell_type": "code",
      "execution_count": null,
      "metadata": {},
      "outputs": [],
      "source": [
        "# Add some label noise to simulate real-world conditions\n",
        "import random\n",
        "random.seed(42)\n",
        "\n",
        "noisy_training_data = clean_training_data.copy()\n",
        "languages = ['en', 'fr', 'es']\n",
        "\n",
        "# Introduce 15% label noise\n",
        "noise_rate = 0.15\n",
        "num_noisy_samples = int(len(noisy_training_data) * noise_rate)\n",
        "\n",
        "for i in random.sample(range(len(noisy_training_data)), num_noisy_samples):\n",
        "    original_lang = noisy_training_data[i]['lang']\n",
        "    # Assign a random wrong language\n",
        "    wrong_langs = [lang for lang in languages if lang != original_lang]\n",
        "    noisy_training_data[i]['lang'] = random.choice(wrong_langs)\n",
        "\n",
        "print(f\"Introduced noise in {num_noisy_samples} samples ({noise_rate*100}% noise rate)\")\n",
        "print(\"\\nNoisy data distribution:\")\n",
        "pd.DataFrame(noisy_training_data).groupby('lang').size()\n"
      ]
    },
    {
      "cell_type": "markdown",
      "metadata": {
        "vscode": {
          "languageId": "raw"
        }
      },
      "source": [
        "## 2. Training Vocabulous Models\n",
        "\n",
        "Let's train models on both clean and noisy data to see how Vocabulous handles the bootstrapping process.\n"
      ]
    },
    {
      "cell_type": "code",
      "execution_count": null,
      "metadata": {},
      "outputs": [],
      "source": [
        "# Create evaluation data\n",
        "eval_data = [\n",
        "    {'text': 'Hello there my friend', 'lang': 'en'},\n",
        "    {'text': 'Programming is fun and exciting', 'lang': 'en'},\n",
        "    {'text': 'Bonjour mes amis', 'lang': 'fr'},\n",
        "    {'text': 'La programmation est amusante', 'lang': 'fr'},\n",
        "    {'text': 'Hola mis amigos', 'lang': 'es'},\n",
        "    {'text': 'La programación es divertida', 'lang': 'es'},\n",
        "]\n",
        "\n",
        "# Train on noisy data with bootstrapping\n",
        "print(\"Training Vocabulous on noisy data...\")\n",
        "model = Vocabulous()\n",
        "model, report = model.train(\n",
        "    train_data=noisy_training_data,\n",
        "    eval_data=eval_data,\n",
        "    cycles=3,\n",
        "    base_confidence=0.4,\n",
        "    confidence_margin=0.3\n",
        ")\n",
        "\n",
        "print(f\"\\nTraining completed!\")\n",
        "print(f\"Number of cycles: {report['cycles']}\")\n",
        "print(f\"Dictionary size: {report['dictionary_size']} words\")\n",
        "\n",
        "# Show improvement across cycles\n",
        "print(\"\\nProgress across training cycles:\")\n",
        "for i, cycle_report in enumerate(report['cycle_reports']):\n",
        "    print(f\"Cycle {i+1}: Accuracy={cycle_report['accuracy']:.3f}, \"\n",
        "          f\"F1={cycle_report['f1']:.3f}, \"\n",
        "          f\"Removed={cycle_report['removed_samples']} samples\")\n"
      ]
    },
    {
      "cell_type": "markdown",
      "metadata": {
        "vscode": {
          "languageId": "raw"
        }
      },
      "source": [
        "## 3. Testing Language Detection\n",
        "\n",
        "Now let's test our trained model on some new sentences to see how well it performs.\n"
      ]
    },
    {
      "cell_type": "code",
      "execution_count": null,
      "metadata": {},
      "outputs": [],
      "source": [
        "# Test sentences in different languages\n",
        "test_sentences = [\n",
        "    \"Hello how are you doing today\",\n",
        "    \"Machine learning algorithms are powerful\", \n",
        "    \"Bonjour comment ça va aujourd hui\",\n",
        "    \"Les algorithmes d apprentissage automatique\",\n",
        "    \"Hola cómo estás hoy\",\n",
        "    \"Los algoritmos de aprendizaje automático\"\n",
        "]\n",
        "\n",
        "expected_langs = ['en', 'en', 'fr', 'fr', 'es', 'es']\n",
        "\n",
        "print(\"Language Detection Results:\")\n",
        "print(\"=\" * 60)\n",
        "\n",
        "for i, sentence in enumerate(test_sentences):\n",
        "    # Get scores from model\n",
        "    scores = model._score_sentence(sentence)\n",
        "    \n",
        "    # Get top prediction\n",
        "    if scores:\n",
        "        predicted = max(scores.items(), key=lambda x: x[1])[0]\n",
        "        confidence = max(scores.values())\n",
        "    else:\n",
        "        predicted = 'unknown'\n",
        "        confidence = 0.0\n",
        "    \n",
        "    expected = expected_langs[i]\n",
        "    correct = \"✓\" if predicted == expected else \"✗\"\n",
        "    \n",
        "    print(f\"\\nText: '{sentence}'\")\n",
        "    print(f\"Expected: {expected} | Predicted: {predicted} {correct}\")\n",
        "    print(f\"Confidence: {confidence:.3f}\")\n",
        "    print(f\"All scores: {scores}\")\n"
      ]
    },
    {
      "cell_type": "markdown",
      "metadata": {
        "vscode": {
          "languageId": "raw"
        }
      },
      "source": [
        "## Key Takeaways\n",
        "\n",
        "This demo showcased the core capabilities of Vocabulous:\n",
        "\n",
        "### ✅ **Bootstrapping Success**\n",
        "- Started with 15% label noise in training data\n",
        "- Iteratively improved model quality through progressive data cleaning\n",
        "- Achieved good performance despite noisy labels\n",
        "\n",
        "### ✅ **Interpretable Results**\n",
        "- Dictionary-based approach provides clear word-language associations\n",
        "- Fast inference without neural network complexity\n",
        "- Easy to understand and debug\n",
        "\n",
        "### ✅ **Practical Applications**\n",
        "- Language detection from noisy datasets\n",
        "- Data cleaning and preprocessing\n",
        "- Bootstrap training for other models\n",
        "\n",
        "### 🎯 **When to Use Vocabulous**\n",
        "\n",
        "**Perfect for:**\n",
        "- Noisy multilingual datasets\n",
        "- Fast language detection requirements\n",
        "- Interpretable model requirements\n",
        "- Data cleaning pipelines\n",
        "\n",
        "Try experimenting with different parameters and datasets to see how Vocabulous can help with your language detection needs!\n",
        "\n",
        "For more advanced features and examples, check out the full documentation at: https://github.com/omar/vocabulous\n"
      ]
    }
  ],
  "metadata": {
    "kernelspec": {
      "display_name": ".venv",
      "language": "python",
      "name": "python3"
    },
    "language_info": {
      "codemirror_mode": {
        "name": "ipython",
        "version": 3
      },
      "file_extension": ".py",
      "mimetype": "text/x-python",
      "name": "python",
      "nbconvert_exporter": "python",
      "pygments_lexer": "ipython3",
      "version": "3.13.3"
    }
  },
  "nbformat": 4,
  "nbformat_minor": 2
}
